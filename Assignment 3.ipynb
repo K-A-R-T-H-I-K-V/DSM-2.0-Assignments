{
 "cells": [
  {
   "cell_type": "markdown",
   "id": "7f1b3527",
   "metadata": {},
   "source": [
    "## 1. Which keyword is used to create a function? Create a function to return a list of odd numbers in the range of 1 to 25."
   ]
  },
  {
   "cell_type": "markdown",
   "id": "cedf7df4",
   "metadata": {},
   "source": [
    "### The def keyword is used to create, (or define) a function."
   ]
  },
  {
   "cell_type": "code",
   "execution_count": 1,
   "id": "893b59bb",
   "metadata": {},
   "outputs": [],
   "source": [
    "def oddNums(m, n) :\n",
    "    \n",
    "    my_list = [];\n",
    "    \n",
    "    for i in range(m, n) :\n",
    "        \n",
    "        if(i % 2 != 0) :\n",
    "            my_list.append(i)\n",
    "    \n",
    "    return my_list"
   ]
  },
  {
   "cell_type": "code",
   "execution_count": 2,
   "id": "011eb526",
   "metadata": {},
   "outputs": [
    {
     "data": {
      "text/plain": [
       "[1, 3, 5, 7, 9, 11, 13, 15, 17, 19, 21, 23]"
      ]
     },
     "execution_count": 2,
     "metadata": {},
     "output_type": "execute_result"
    }
   ],
   "source": [
    "oddNums(1,25)"
   ]
  },
  {
   "cell_type": "markdown",
   "id": "4d154ee5",
   "metadata": {},
   "source": [
    "## 2. Why *args and **kwargs is used in some functions ? Create a function each for *args and **kwargs to demonstrate their use."
   ]
  },
  {
   "cell_type": "markdown",
   "id": "141652e9",
   "metadata": {},
   "source": [
    "#### Sometimes it is possible that you can't predict the number of arguments that we will be providing to the function. This can cause the problem, and if you don’t know how to handle it, then you will end up getting stuck writing the same code for variable number of arguments.\n",
    "\n",
    "#### *args and, or **kwargs are the solution of your problem"
   ]
  },
  {
   "cell_type": "code",
   "execution_count": 1,
   "id": "4515d46f",
   "metadata": {},
   "outputs": [],
   "source": [
    "def multiplyNumbers(*numbers):\n",
    "    \n",
    "    product=1\n",
    "    \n",
    "    for i in numbers:\n",
    "        product *= i\n",
    "    \n",
    "    return product"
   ]
  },
  {
   "cell_type": "code",
   "execution_count": 2,
   "id": "5dd087a1",
   "metadata": {},
   "outputs": [
    {
     "name": "stdout",
     "output_type": "stream",
     "text": [
      "product: 4096\n"
     ]
    }
   ],
   "source": [
    "print(\"product:\",multiplyNumbers(4,4,4,4,4,4)) "
   ]
  },
  {
   "cell_type": "markdown",
   "id": "fbd8acf6",
   "metadata": {},
   "source": [
    "#### One thing to note here is that \"args\" is just an identifier. It can be named anything relevant.\n",
    "\n",
    "#### When an asterisk(*) is passed before the variable name in a Python function, then Python understands that here the number of arguments is not fixed. Python makes a tuple of these arguments with the name we use after the asterisk(*) and makes this variable available to us inside the function. This asterisk(*) is called an “unpacking operator”."
   ]
  },
  {
   "cell_type": "markdown",
   "id": "cf0a8e25",
   "metadata": {},
   "source": [
    "#### *args enable us to pass the variable number of non-keyword arguments to functions, but we cannot use this to pass keyword arguments. Keyword arguments mean that they contain a key-value pair, like a Python dictionary.\n",
    "\n",
    "#### **kwargs allows us to pass any number of keyword arguments.\n",
    "\n",
    "#### In Python, these keyword arguments are passed to the program as a Python dictionary.\n",
    "\n",
    "#### Python will consider any variable name with two asterisks(**) before it as a keyword argument.\n",
    "\n"
   ]
  },
  {
   "cell_type": "code",
   "execution_count": 6,
   "id": "6bb981d6",
   "metadata": {},
   "outputs": [],
   "source": [
    "def stud_info (**kwargs) :\n",
    "    \n",
    "    return kwargs"
   ]
  },
  {
   "cell_type": "code",
   "execution_count": 7,
   "id": "832a7718",
   "metadata": {},
   "outputs": [
    {
     "data": {
      "text/plain": [
       "{'USN': '1AM22CS090', 'name': 'Karthik', 'age': 19, 'course': 'CSE'}"
      ]
     },
     "execution_count": 7,
     "metadata": {},
     "output_type": "execute_result"
    }
   ],
   "source": [
    "stud_info(USN = '1AM22CS090', name = 'Karthik', age = 19, course = 'CSE')"
   ]
  },
  {
   "cell_type": "markdown",
   "id": "ee43ad52",
   "metadata": {},
   "source": [
    "## 3. What is an iterator in python ? Name the method used to initialize the iterator object and the method used for Python. Use these methods to print the first five elements of the given list [2, 4, 6, 8, 10, 12, 14, 16, 18, 20]"
   ]
  },
  {
   "cell_type": "markdown",
   "id": "370d4d2b",
   "metadata": {},
   "source": [
    "#### Iterator is an object that represents stream of data and implements the next() method. It keeps a track of the current position within the stream and returns the next element when next() is called. Additionally and iterator also implements the iter() method, which returns the iterator object itself. Iterators provide a way to access elements of an iterable one at a time without storing the entire collection in memory."
   ]
  },
  {
   "cell_type": "markdown",
   "id": "a6cb0220",
   "metadata": {},
   "source": [
    "#### Iterable on the other hand, is any object in Python that can be iterated over, meaning it can be looped through or have its elements accessed one at a time. In other words, an iterable is an object that implements the iter() method, which returns an iterator object.\n",
    "#### Examples - lists, tuples, strings, dictionaries, sets and more"
   ]
  },
  {
   "cell_type": "code",
   "execution_count": 9,
   "id": "902f6955",
   "metadata": {},
   "outputs": [],
   "source": [
    "my_list = [2, 4, 6, 8, 10, 12, 14, 16, 18, 20]"
   ]
  },
  {
   "cell_type": "code",
   "execution_count": 10,
   "id": "e5ba0614",
   "metadata": {},
   "outputs": [],
   "source": [
    "my_iterator = iter(my_list)"
   ]
  },
  {
   "cell_type": "code",
   "execution_count": 17,
   "id": "49f78207",
   "metadata": {},
   "outputs": [
    {
     "name": "stdout",
     "output_type": "stream",
     "text": [
      "<list_iterator object at 0x000001D010E08820>\n",
      "12\n",
      "14\n",
      "16\n",
      "18\n",
      "20\n"
     ]
    }
   ],
   "source": [
    "print(my_iterator)\n",
    "for _ in range(5) : # _ = 0, 1, 2, 3, 4\n",
    "   \n",
    "    element = next(my_iterator)\n",
    "    print(element)"
   ]
  },
  {
   "cell_type": "markdown",
   "id": "a9ae976a",
   "metadata": {},
   "source": [
    "## 4. What is a generator function in python ? Why yield keyword is used ? Given an example for generator function"
   ]
  },
  {
   "cell_type": "markdown",
   "id": "06d99ea9",
   "metadata": {},
   "source": [
    "#### Python's generator functions are used to create iterators(which can be traversed like list, tuple) and return a traversal object. It helps to transverse all the items one at a time present in the iterator.\n",
    "\n",
    "#### Generator functions are defined as the normal function, but to identify the difference between the normal function and generator function is that in the normal function, we use the return keyword to return the values, and in the generator function, instead of using the return, we use yield to execute our iterator."
   ]
  },
  {
   "cell_type": "markdown",
   "id": "8d243cfe",
   "metadata": {},
   "source": [
    "### Difference Between Generator Function & Normal Function\n",
    "#### 1. In generator functions, there are one or more yield functions, whereas, in Normal functions, there is only one function\n",
    "#### 2. When the generator function is called, the normal function pauses its execution, and the call is transferred to the generator function.\n",
    "#### 3. Local variables and their states are remembered between successive calls.\n",
    "#### 4. When the generator function is terminated, StopIteration is called automatically on further calls."
   ]
  },
  {
   "cell_type": "markdown",
   "id": "62205e9a",
   "metadata": {},
   "source": [
    "### How To Create Generator Function in Python?\n",
    "#### In Python, there are some ways to create a generator function.\n",
    "\n",
    "#### 1. Using a Yield statement\n",
    "#### 2. Using Python Generator Expression\n",
    "#### 1. Yield Statement\n",
    "#### Yield keyword in Python that is used to return from the function without destroying the state of a local variable. We have already discussed how to create a generator function using yield.\n",
    "\n",
    "#### 2. Python Generator Expression\n",
    "#### Generator Expression is a short-hand form of a generator function. Python provides an easy and convenient way to implement a Generator Expression.\n",
    "\n",
    "#### According to its definition, they are similar to lambda function as lambda function is an anonymous function, and generator functions are anonymous.\n",
    "\n",
    "#### But when it comes to implementation, they are different, they are implemented similarly to list comprehension does, and the only difference in implementation is, instead of using square brackets('[]'), it uses round brackets('()').\n",
    "\n",
    "#### The main and important difference between list comprehension and generator expression is list comprehension returns a list of items, whereas generator expression returns an iterable object."
   ]
  },
  {
   "cell_type": "code",
   "execution_count": 18,
   "id": "70646e76",
   "metadata": {},
   "outputs": [
    {
     "name": "stdout",
     "output_type": "stream",
     "text": [
      "<generator object <genexpr> at 0x000001D010EEEE40>\n",
      "[0, 2, 4, 6, 8]\n",
      "0\n",
      "2\n",
      "4\n",
      "6\n",
      "8\n"
     ]
    }
   ],
   "source": [
    "x = 10\n",
    "gen = (i for i in range(x) if i % 2 == 0)\n",
    "\n",
    "list_ = [i for i in range(x) if i % 2 == 0]\n",
    "\n",
    "print(gen)\n",
    "print(list_)\n",
    "for j in gen:\n",
    "    print(j)"
   ]
  },
  {
   "cell_type": "code",
   "execution_count": 35,
   "id": "86900bc0",
   "metadata": {},
   "outputs": [],
   "source": [
    "def even_no() :\n",
    "    for i in range(50) :\n",
    "        if i % 2 == 0 :\n",
    "            yield i\n",
    "        \"\"\"else :\n",
    "            break\"\"\""
   ]
  },
  {
   "cell_type": "code",
   "execution_count": 36,
   "id": "088d2498",
   "metadata": {},
   "outputs": [
    {
     "name": "stdout",
     "output_type": "stream",
     "text": [
      "<generator object even_no at 0x000001D010F12200>\n",
      "0\n",
      "2\n",
      "4\n",
      "6\n",
      "8\n",
      "10\n",
      "12\n",
      "14\n",
      "16\n",
      "18\n",
      "20\n",
      "22\n",
      "24\n",
      "26\n",
      "28\n",
      "30\n",
      "32\n",
      "34\n",
      "36\n",
      "38\n",
      "40\n",
      "42\n",
      "44\n",
      "46\n",
      "48\n"
     ]
    }
   ],
   "source": [
    "print(even_no())\n",
    "\n",
    "for i in even_no() :\n",
    "    print(i)"
   ]
  },
  {
   "cell_type": "markdown",
   "id": "9d871739",
   "metadata": {},
   "source": [
    "## 5. Create a generator function for prime numbers less than 1000. Use the next() method to print the first 20 prime numbers"
   ]
  },
  {
   "cell_type": "code",
   "execution_count": 44,
   "id": "6db0567e",
   "metadata": {},
   "outputs": [],
   "source": [
    "def prime_no() :\n",
    "    \n",
    "    for num in range(1, 1000) :\n",
    "        \n",
    "        for i in range(2, int(num ** 0.5) + 1) :\n",
    "            if num % i == 0 :\n",
    "                break\n",
    "        else :\n",
    "            yield num"
   ]
  },
  {
   "cell_type": "code",
   "execution_count": 45,
   "id": "c56c32c3",
   "metadata": {},
   "outputs": [
    {
     "name": "stdout",
     "output_type": "stream",
     "text": [
      "<generator object prime_no at 0x000001D010F12C10>\n",
      "1\n",
      "2\n",
      "3\n",
      "5\n",
      "7\n",
      "11\n",
      "13\n",
      "17\n",
      "19\n",
      "23\n",
      "29\n",
      "31\n",
      "37\n",
      "41\n",
      "43\n",
      "47\n",
      "53\n",
      "59\n",
      "61\n",
      "67\n"
     ]
    }
   ],
   "source": [
    "prime_gen = prime_no()\n",
    "print(prime_gen)\n",
    "\n",
    "for i in range(20) :\n",
    "    print(next(prime_gen))"
   ]
  },
  {
   "cell_type": "markdown",
   "id": "c00597b7",
   "metadata": {},
   "source": [
    "## 6. Write a python program to print the first 10 fibonacci numbers using a while loop"
   ]
  },
  {
   "cell_type": "code",
   "execution_count": 4,
   "id": "2548ebc7",
   "metadata": {},
   "outputs": [],
   "source": [
    "def fibo(n) :\n",
    "    \n",
    "    a, b = 0, 1 \n",
    "    \n",
    "    i = 1\n",
    "    while(i <= n) :\n",
    "        \n",
    "        yield a\n",
    "        a, b = b, a + b\n",
    "        i = i + 1"
   ]
  },
  {
   "cell_type": "code",
   "execution_count": 9,
   "id": "5346913e",
   "metadata": {},
   "outputs": [
    {
     "name": "stdout",
     "output_type": "stream",
     "text": [
      "<generator object fibo at 0x000002418451F040>\n",
      "0\n",
      "1\n",
      "1\n",
      "2\n",
      "3\n",
      "5\n",
      "8\n",
      "13\n",
      "21\n",
      "34\n",
      "55\n",
      "89\n",
      "144\n",
      "233\n",
      "377\n"
     ]
    }
   ],
   "source": [
    "fibonacci = fibo(15)\n",
    "print(fibonacci)\n",
    "\n",
    "for i in fibonacci :\n",
    "    print(i)"
   ]
  },
  {
   "cell_type": "markdown",
   "id": "a159ed6b",
   "metadata": {},
   "source": [
    "## 7. Write a list Comprehension to iterate through the given string : 'pwskills'"
   ]
  },
  {
   "cell_type": "code",
   "execution_count": 10,
   "id": "d6d5dc1a",
   "metadata": {},
   "outputs": [],
   "source": [
    "empty_list = list(_ for _ in 'pwskills')"
   ]
  },
  {
   "cell_type": "code",
   "execution_count": 11,
   "id": "0a15ef41",
   "metadata": {},
   "outputs": [
    {
     "data": {
      "text/plain": [
       "['p', 'w', 's', 'k', 'i', 'l', 'l', 's']"
      ]
     },
     "execution_count": 11,
     "metadata": {},
     "output_type": "execute_result"
    }
   ],
   "source": [
    "empty_list"
   ]
  },
  {
   "cell_type": "markdown",
   "id": "98dfb6a7",
   "metadata": {},
   "source": [
    "## 8. Write a python program to check whether a given number is Palindrome or not using a while loop\n",
    "\n",
    "## Method 1"
   ]
  },
  {
   "cell_type": "code",
   "execution_count": 8,
   "id": "b40b54a6",
   "metadata": {},
   "outputs": [
    {
     "name": "stdout",
     "output_type": "stream",
     "text": [
      "Enter a number : 23432\n",
      "The number 23432 is a palindrome\n"
     ]
    }
   ],
   "source": [
    "x = (input(\"Enter a number : \"))\n",
    "r = (x[::-1])\n",
    "\n",
    "flag = True\n",
    "i = 0\n",
    "j = len(x) - 1\n",
    "while(i <= j) :\n",
    "    if r[i] != r[j] :\n",
    "        flag = False\n",
    "    i = i + 1\n",
    "    j = j - 1\n",
    "    \n",
    "if flag == True :\n",
    "    print(\"The number\",x,\"is a palindrome\")\n",
    "else :\n",
    "    print(\"The number\",x,\"is NOT a palindrome\")"
   ]
  },
  {
   "cell_type": "markdown",
   "id": "75b5af10",
   "metadata": {},
   "source": [
    "## Method 2"
   ]
  },
  {
   "cell_type": "code",
   "execution_count": 3,
   "id": "635569f1",
   "metadata": {},
   "outputs": [
    {
     "name": "stdout",
     "output_type": "stream",
     "text": [
      "Enter a number : 32123\n",
      "The number 32123 is a palindrome\n"
     ]
    }
   ],
   "source": [
    "num = int(input(\"Enter a number : \"))\n",
    "temp = num\n",
    "rev = 0\n",
    "\n",
    "while(temp != 0) :\n",
    "    lastDigit = temp % 10\n",
    "    rev = rev * 10 + lastDigit\n",
    "    temp = temp // 10\n",
    "    \n",
    "if(num == rev) :\n",
    "    print(\"The number\",num,\"is a palindrome\")\n",
    "else :\n",
    "    print(\"The number\",num,\"is NOT a palindrome\")"
   ]
  },
  {
   "cell_type": "markdown",
   "id": "1151249e",
   "metadata": {},
   "source": [
    "## 9. Write a code to print odd numbers from 1 to 100 using list comprehension\n",
    "\n",
    "## mylist = [output/expression for item in iterable if condition == True]\n"
   ]
  },
  {
   "cell_type": "code",
   "execution_count": 5,
   "id": "095519b3",
   "metadata": {},
   "outputs": [],
   "source": [
    "num_list = list(_ for _ in range(1,100))"
   ]
  },
  {
   "cell_type": "code",
   "execution_count": 7,
   "id": "f033e9e6",
   "metadata": {},
   "outputs": [
    {
     "data": {
      "text/plain": [
       "<filter at 0x1d45032ea30>"
      ]
     },
     "execution_count": 7,
     "metadata": {},
     "output_type": "execute_result"
    }
   ],
   "source": [
    "filter(lambda x : x % 2 != 0, num_list)"
   ]
  },
  {
   "cell_type": "code",
   "execution_count": 8,
   "id": "508385f9",
   "metadata": {},
   "outputs": [
    {
     "data": {
      "text/plain": [
       "[1,\n",
       " 3,\n",
       " 5,\n",
       " 7,\n",
       " 9,\n",
       " 11,\n",
       " 13,\n",
       " 15,\n",
       " 17,\n",
       " 19,\n",
       " 21,\n",
       " 23,\n",
       " 25,\n",
       " 27,\n",
       " 29,\n",
       " 31,\n",
       " 33,\n",
       " 35,\n",
       " 37,\n",
       " 39,\n",
       " 41,\n",
       " 43,\n",
       " 45,\n",
       " 47,\n",
       " 49,\n",
       " 51,\n",
       " 53,\n",
       " 55,\n",
       " 57,\n",
       " 59,\n",
       " 61,\n",
       " 63,\n",
       " 65,\n",
       " 67,\n",
       " 69,\n",
       " 71,\n",
       " 73,\n",
       " 75,\n",
       " 77,\n",
       " 79,\n",
       " 81,\n",
       " 83,\n",
       " 85,\n",
       " 87,\n",
       " 89,\n",
       " 91,\n",
       " 93,\n",
       " 95,\n",
       " 97,\n",
       " 99]"
      ]
     },
     "execution_count": 8,
     "metadata": {},
     "output_type": "execute_result"
    }
   ],
   "source": [
    "list(filter(lambda x : x % 2 != 0, num_list))"
   ]
  },
  {
   "cell_type": "code",
   "execution_count": null,
   "id": "494e7420",
   "metadata": {},
   "outputs": [],
   "source": []
  }
 ],
 "metadata": {
  "kernelspec": {
   "display_name": "Python 3 (ipykernel)",
   "language": "python",
   "name": "python3"
  },
  "language_info": {
   "codemirror_mode": {
    "name": "ipython",
    "version": 3
   },
   "file_extension": ".py",
   "mimetype": "text/x-python",
   "name": "python",
   "nbconvert_exporter": "python",
   "pygments_lexer": "ipython3",
   "version": "3.9.13"
  }
 },
 "nbformat": 4,
 "nbformat_minor": 5
}

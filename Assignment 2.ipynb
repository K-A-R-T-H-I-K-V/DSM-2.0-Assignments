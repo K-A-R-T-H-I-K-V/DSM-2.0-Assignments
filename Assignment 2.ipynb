{
 "cells": [
  {
   "cell_type": "markdown",
   "id": "de6a6817",
   "metadata": {},
   "source": [
    "## 1. How do you comment code in Python? What are the different types of comments ?"
   ]
  },
  {
   "cell_type": "markdown",
   "id": "a8f0eb4c",
   "metadata": {},
   "source": [
    "### Comments can be created in our Python code to make it easy for the readers, in the following ways\n",
    "### i) Single line comments in Python are preceded by the use of a single or a double '#' right before the code that has to be commented\n",
    "### ii) Multiline/block comments, however, can be made by enclosing the code to be commented by the use of a triple single or double quotes!"
   ]
  },
  {
   "cell_type": "code",
   "execution_count": 2,
   "id": "7daaf607",
   "metadata": {},
   "outputs": [],
   "source": [
    "# This works as a single-line comment"
   ]
  },
  {
   "cell_type": "code",
   "execution_count": 3,
   "id": "e7f5358a",
   "metadata": {},
   "outputs": [
    {
     "data": {
      "text/plain": [
       "'\\nAnything within these triple quotes are commented out!\\nMostly useful when one has to add description to their code'"
      ]
     },
     "execution_count": 3,
     "metadata": {},
     "output_type": "execute_result"
    }
   ],
   "source": [
    "\"\"\"\n",
    "Anything within these triple quotes are commented out!\n",
    "Mostly useful when one has to add description to their code\"\"\""
   ]
  },
  {
   "cell_type": "markdown",
   "id": "8965f30e",
   "metadata": {},
   "source": [
    "## 2. What are variables in Python? How do you declare and assign values to variables ?"
   ]
  },
  {
   "cell_type": "markdown",
   "id": "d8105e72",
   "metadata": {},
   "source": [
    "### Variables in general, are containers that can store data as simple as an integer, to even complicated data sequences like dictionary. \n",
    "### Variables are a symbolic name, that is a reference or a pointer to an object.\n",
    "### An appropriate variable name will be chosen with respect to the variable naming conventions, and an assignment '=' operator is used to assign a value to our declared variable. Python is a dynamic typing language and the type of data to be assigned need not be mentioned explicitly. "
   ]
  },
  {
   "cell_type": "code",
   "execution_count": 20,
   "id": "78dd6fa6",
   "metadata": {},
   "outputs": [
    {
     "name": "stdout",
     "output_type": "stream",
     "text": [
      "The value stored in our declared variable is : 35\n",
      "The class/type of our variable 'num' is <class 'int'>\n"
     ]
    }
   ],
   "source": [
    "# Creating a python variable 'num' that can store a number\n",
    "num = 35\n",
    "print(f\"The value stored in our declared variable is : {num}\")\n",
    "print(f\"The class/type of our variable 'num' is {type(num)}\")"
   ]
  },
  {
   "cell_type": "markdown",
   "id": "912b8ac5",
   "metadata": {},
   "source": [
    "## 3. How do you convert one data type to another in Python ?"
   ]
  },
  {
   "cell_type": "code",
   "execution_count": 19,
   "id": "839da5bd",
   "metadata": {},
   "outputs": [
    {
     "name": "stdout",
     "output_type": "stream",
     "text": [
      "19\n",
      "<class 'str'>\n"
     ]
    }
   ],
   "source": [
    "###  Type casting or Type conversion is the way to convert data of one type to another\n",
    "\n",
    "a = 19 # an integer variable storing an integer value\n",
    "s = str(a) #creating another variable named s\n",
    "print(s)\n",
    "print(type(s)) "
   ]
  },
  {
   "cell_type": "markdown",
   "id": "09ac8854",
   "metadata": {},
   "source": [
    "### The integer value 19, was type casted into a string '19' using str() function"
   ]
  },
  {
   "cell_type": "markdown",
   "id": "59027825",
   "metadata": {},
   "source": [
    "## 4. How do you write and execute a Python script from the command line ?"
   ]
  },
  {
   "cell_type": "markdown",
   "id": "f9e5a9d7",
   "metadata": {},
   "source": [
    "### 1. The python code to be executed using the command line is saved with the .py extension\n",
    "### 2. Navigate to the desired directory/location through the use of cd command \n",
    "### 3. Run 'python3 file_name.py' command "
   ]
  },
  {
   "cell_type": "markdown",
   "id": "92635747",
   "metadata": {},
   "source": [
    "## 5. Given a list my_list = [1, 2, 3, 4, 5], write the code to slice the list and obtain the sub-list[2, 3]"
   ]
  },
  {
   "cell_type": "code",
   "execution_count": 12,
   "id": "050096ef",
   "metadata": {},
   "outputs": [],
   "source": [
    "##indices  0  1  2  3  4\n",
    "my_list = [1, 2, 3, 4, 5]\n",
    "##indices -5 -4 -3 -2 -1"
   ]
  },
  {
   "cell_type": "code",
   "execution_count": 16,
   "id": "e8ebc6c9",
   "metadata": {},
   "outputs": [
    {
     "name": "stdout",
     "output_type": "stream",
     "text": [
      "Required sub-list is [2, 3]\n"
     ]
    }
   ],
   "source": [
    "print(f\"Required sub-list is {my_list[1:3]}\")"
   ]
  },
  {
   "cell_type": "markdown",
   "id": "4fa15798",
   "metadata": {},
   "source": [
    "## 6. What is a complex number in Mathematics, and how is it represented in Python ?"
   ]
  },
  {
   "cell_type": "markdown",
   "id": "bed9e6fc",
   "metadata": {},
   "source": [
    "## A complex number is of the form (a + ib), where a denotes the real part, and ib is the imaginary part. In python, the imaginary part is denotes using 'J' or 'j'"
   ]
  },
  {
   "cell_type": "code",
   "execution_count": 24,
   "id": "72265bd9",
   "metadata": {},
   "outputs": [
    {
     "name": "stdout",
     "output_type": "stream",
     "text": [
      "The value stored in our declared variable is : (4+7j)\n",
      "The class/type of our variable 'x' is <class 'complex'>\n"
     ]
    }
   ],
   "source": [
    "x = 4 + 7j\n",
    "print(f\"The value stored in our declared variable is : {x}\")\n",
    "print(f\"The class/type of our variable 'x' is {type(x)}\")"
   ]
  },
  {
   "cell_type": "markdown",
   "id": "a5abd2fd",
   "metadata": {},
   "source": [
    "## 7. What is the correct way to declare a variable named age and assign the value 25 to it?"
   ]
  },
  {
   "cell_type": "code",
   "execution_count": 21,
   "id": "a9867c7e",
   "metadata": {},
   "outputs": [
    {
     "name": "stdout",
     "output_type": "stream",
     "text": [
      "25\n"
     ]
    }
   ],
   "source": [
    "age = 25\n",
    "print(age)"
   ]
  },
  {
   "cell_type": "markdown",
   "id": "47c77ee9",
   "metadata": {},
   "source": [
    "## The correct way to declare any variable in general is :\n",
    "## variable_name = value \n",
    "## However, depending on the data that has to be stored, the values may need to be assigned differently, for example, in case of a tuple, we enclose our values within parenthesis (), [] incase of lists, etc.."
   ]
  },
  {
   "cell_type": "markdown",
   "id": "ca2e0eeb",
   "metadata": {},
   "source": [
    "## 8. Declare a variable named price and assign the value 9.99 to it. What data type does this variable belong to?"
   ]
  },
  {
   "cell_type": "code",
   "execution_count": 23,
   "id": "e074bedb",
   "metadata": {},
   "outputs": [
    {
     "name": "stdout",
     "output_type": "stream",
     "text": [
      "The value stored in our declared variable is : 99.9\n",
      "The class/type of our variable 'price' is <class 'float'>\n"
     ]
    }
   ],
   "source": [
    "price = 99.9\n",
    "print(f\"The value stored in our declared variable is : {price}\")\n",
    "print(f\"The class/type of our variable 'price' is {type(price)}\")"
   ]
  },
  {
   "cell_type": "markdown",
   "id": "de080307",
   "metadata": {},
   "source": [
    "## 9. Create a variable named name and assign your full name to it as a string. How would you print the value of this variable ?"
   ]
  },
  {
   "cell_type": "code",
   "execution_count": 25,
   "id": "93f508b5",
   "metadata": {},
   "outputs": [
    {
     "name": "stdout",
     "output_type": "stream",
     "text": [
      "My name is Karthik\n"
     ]
    }
   ],
   "source": [
    "name = 'Karthik'\n",
    "print(f\"My name is {name}\")"
   ]
  },
  {
   "cell_type": "markdown",
   "id": "d6ba26a6",
   "metadata": {},
   "source": [
    "## 10. Given the string \"Hello, World!\", extract the substring \"World\"."
   ]
  },
  {
   "cell_type": "code",
   "execution_count": 27,
   "id": "31743c6f",
   "metadata": {},
   "outputs": [],
   "source": [
    "str1 = \"Hello, World!\""
   ]
  },
  {
   "cell_type": "code",
   "execution_count": 31,
   "id": "bea3cfe2",
   "metadata": {},
   "outputs": [
    {
     "data": {
      "text/plain": [
       "'\\n  0  1  2  3 4 5 6 7 8 9 10 11 12\\n  H  e  l  l o ,   W o r l  d  !\\n-13-12-11-10-9-8-7-6-5-4-3 -2 -1\\n\\n'"
      ]
     },
     "execution_count": 31,
     "metadata": {},
     "output_type": "execute_result"
    }
   ],
   "source": [
    "\"\"\"\n",
    "  0  1  2  3 4 5 6 7 8 9 10 11 12\n",
    "  H  e  l  l o ,   W o r l  d  !\n",
    "-13-12-11-10-9-8-7-6-5-4-3 -2 -1\n",
    "\n",
    "\"\"\"\n",
    "\n",
    "#indexing our string"
   ]
  },
  {
   "cell_type": "code",
   "execution_count": 32,
   "id": "d3044846",
   "metadata": {},
   "outputs": [
    {
     "name": "stdout",
     "output_type": "stream",
     "text": [
      "World\n",
      "World\n"
     ]
    }
   ],
   "source": [
    "print(str1[7:12])\n",
    "#or\n",
    "print(str1[-6:-1])"
   ]
  },
  {
   "cell_type": "markdown",
   "id": "f3ad0905",
   "metadata": {},
   "source": [
    "## 11. Create a variable \"is_student\" and assign it a boolean value indicating whether you are currently a student or not"
   ]
  },
  {
   "cell_type": "code",
   "execution_count": 33,
   "id": "b03f9eee",
   "metadata": {},
   "outputs": [
    {
     "name": "stdout",
     "output_type": "stream",
     "text": [
      "True\n"
     ]
    }
   ],
   "source": [
    "is_student = True\n",
    "print(is_student)"
   ]
  },
  {
   "cell_type": "code",
   "execution_count": null,
   "id": "1fa00a1e",
   "metadata": {},
   "outputs": [],
   "source": []
  }
 ],
 "metadata": {
  "kernelspec": {
   "display_name": "Python 3 (ipykernel)",
   "language": "python",
   "name": "python3"
  },
  "language_info": {
   "codemirror_mode": {
    "name": "ipython",
    "version": 3
   },
   "file_extension": ".py",
   "mimetype": "text/x-python",
   "name": "python",
   "nbconvert_exporter": "python",
   "pygments_lexer": "ipython3",
   "version": "3.9.13"
  }
 },
 "nbformat": 4,
 "nbformat_minor": 5
}
